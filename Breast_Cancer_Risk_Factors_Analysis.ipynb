{
 "cells": [
  {
   "cell_type": "code",
   "execution_count": 72,
   "metadata": {},
   "outputs": [],
   "source": [
    "import pandas as pd\n",
    "import numpy as np\n",
    "import tensorflow as tf \n",
    "import matplotlib.pyplot as plt \n",
    "from IPython.display import clear_output\n",
    "from sklearn.metrics import roc_curve"
   ]
  },
  {
   "cell_type": "markdown",
   "metadata": {},
   "source": [
    "## Load data and perfom exploratory analysis"
   ]
  },
  {
   "cell_type": "code",
   "execution_count": 3,
   "metadata": {},
   "outputs": [
    {
     "data": {
      "text/html": [
       "<div>\n",
       "<style scoped>\n",
       "    .dataframe tbody tr th:only-of-type {\n",
       "        vertical-align: middle;\n",
       "    }\n",
       "\n",
       "    .dataframe tbody tr th {\n",
       "        vertical-align: top;\n",
       "    }\n",
       "\n",
       "    .dataframe thead th {\n",
       "        text-align: right;\n",
       "    }\n",
       "</style>\n",
       "<table border=\"1\" class=\"dataframe\">\n",
       "  <thead>\n",
       "    <tr style=\"text-align: right;\">\n",
       "      <th></th>\n",
       "      <th>Age</th>\n",
       "      <th>BMI</th>\n",
       "      <th>Glucose</th>\n",
       "      <th>Insulin</th>\n",
       "      <th>HOMA</th>\n",
       "      <th>Leptin</th>\n",
       "      <th>Adiponectin</th>\n",
       "      <th>Resistin</th>\n",
       "      <th>MCP.1</th>\n",
       "      <th>Classification</th>\n",
       "    </tr>\n",
       "  </thead>\n",
       "  <tbody>\n",
       "    <tr>\n",
       "      <th>0</th>\n",
       "      <td>48</td>\n",
       "      <td>23.500000</td>\n",
       "      <td>70</td>\n",
       "      <td>2.707</td>\n",
       "      <td>0.467409</td>\n",
       "      <td>8.8071</td>\n",
       "      <td>9.702400</td>\n",
       "      <td>7.99585</td>\n",
       "      <td>417.114</td>\n",
       "      <td>1</td>\n",
       "    </tr>\n",
       "    <tr>\n",
       "      <th>1</th>\n",
       "      <td>83</td>\n",
       "      <td>20.690495</td>\n",
       "      <td>92</td>\n",
       "      <td>3.115</td>\n",
       "      <td>0.706897</td>\n",
       "      <td>8.8438</td>\n",
       "      <td>5.429285</td>\n",
       "      <td>4.06405</td>\n",
       "      <td>468.786</td>\n",
       "      <td>1</td>\n",
       "    </tr>\n",
       "    <tr>\n",
       "      <th>2</th>\n",
       "      <td>82</td>\n",
       "      <td>23.124670</td>\n",
       "      <td>91</td>\n",
       "      <td>4.498</td>\n",
       "      <td>1.009651</td>\n",
       "      <td>17.9393</td>\n",
       "      <td>22.432040</td>\n",
       "      <td>9.27715</td>\n",
       "      <td>554.697</td>\n",
       "      <td>1</td>\n",
       "    </tr>\n",
       "    <tr>\n",
       "      <th>3</th>\n",
       "      <td>68</td>\n",
       "      <td>21.367521</td>\n",
       "      <td>77</td>\n",
       "      <td>3.226</td>\n",
       "      <td>0.612725</td>\n",
       "      <td>9.8827</td>\n",
       "      <td>7.169560</td>\n",
       "      <td>12.76600</td>\n",
       "      <td>928.220</td>\n",
       "      <td>1</td>\n",
       "    </tr>\n",
       "    <tr>\n",
       "      <th>4</th>\n",
       "      <td>86</td>\n",
       "      <td>21.111111</td>\n",
       "      <td>92</td>\n",
       "      <td>3.549</td>\n",
       "      <td>0.805386</td>\n",
       "      <td>6.6994</td>\n",
       "      <td>4.819240</td>\n",
       "      <td>10.57635</td>\n",
       "      <td>773.920</td>\n",
       "      <td>1</td>\n",
       "    </tr>\n",
       "    <tr>\n",
       "      <th>5</th>\n",
       "      <td>49</td>\n",
       "      <td>22.854458</td>\n",
       "      <td>92</td>\n",
       "      <td>3.226</td>\n",
       "      <td>0.732087</td>\n",
       "      <td>6.8317</td>\n",
       "      <td>13.679750</td>\n",
       "      <td>10.31760</td>\n",
       "      <td>530.410</td>\n",
       "      <td>1</td>\n",
       "    </tr>\n",
       "    <tr>\n",
       "      <th>6</th>\n",
       "      <td>89</td>\n",
       "      <td>22.700000</td>\n",
       "      <td>77</td>\n",
       "      <td>4.690</td>\n",
       "      <td>0.890787</td>\n",
       "      <td>6.9640</td>\n",
       "      <td>5.589865</td>\n",
       "      <td>12.93610</td>\n",
       "      <td>1256.083</td>\n",
       "      <td>1</td>\n",
       "    </tr>\n",
       "    <tr>\n",
       "      <th>7</th>\n",
       "      <td>76</td>\n",
       "      <td>23.800000</td>\n",
       "      <td>118</td>\n",
       "      <td>6.470</td>\n",
       "      <td>1.883201</td>\n",
       "      <td>4.3110</td>\n",
       "      <td>13.251320</td>\n",
       "      <td>5.10420</td>\n",
       "      <td>280.694</td>\n",
       "      <td>1</td>\n",
       "    </tr>\n",
       "    <tr>\n",
       "      <th>8</th>\n",
       "      <td>73</td>\n",
       "      <td>22.000000</td>\n",
       "      <td>97</td>\n",
       "      <td>3.350</td>\n",
       "      <td>0.801543</td>\n",
       "      <td>4.4700</td>\n",
       "      <td>10.358725</td>\n",
       "      <td>6.28445</td>\n",
       "      <td>136.855</td>\n",
       "      <td>1</td>\n",
       "    </tr>\n",
       "    <tr>\n",
       "      <th>9</th>\n",
       "      <td>75</td>\n",
       "      <td>23.000000</td>\n",
       "      <td>83</td>\n",
       "      <td>4.952</td>\n",
       "      <td>1.013839</td>\n",
       "      <td>17.1270</td>\n",
       "      <td>11.578990</td>\n",
       "      <td>7.09130</td>\n",
       "      <td>318.302</td>\n",
       "      <td>1</td>\n",
       "    </tr>\n",
       "  </tbody>\n",
       "</table>\n",
       "</div>"
      ],
      "text/plain": [
       "   Age        BMI  Glucose  Insulin      HOMA   Leptin  Adiponectin  Resistin  \\\n",
       "0   48  23.500000       70    2.707  0.467409   8.8071     9.702400   7.99585   \n",
       "1   83  20.690495       92    3.115  0.706897   8.8438     5.429285   4.06405   \n",
       "2   82  23.124670       91    4.498  1.009651  17.9393    22.432040   9.27715   \n",
       "3   68  21.367521       77    3.226  0.612725   9.8827     7.169560  12.76600   \n",
       "4   86  21.111111       92    3.549  0.805386   6.6994     4.819240  10.57635   \n",
       "5   49  22.854458       92    3.226  0.732087   6.8317    13.679750  10.31760   \n",
       "6   89  22.700000       77    4.690  0.890787   6.9640     5.589865  12.93610   \n",
       "7   76  23.800000      118    6.470  1.883201   4.3110    13.251320   5.10420   \n",
       "8   73  22.000000       97    3.350  0.801543   4.4700    10.358725   6.28445   \n",
       "9   75  23.000000       83    4.952  1.013839  17.1270    11.578990   7.09130   \n",
       "\n",
       "      MCP.1  Classification  \n",
       "0   417.114               1  \n",
       "1   468.786               1  \n",
       "2   554.697               1  \n",
       "3   928.220               1  \n",
       "4   773.920               1  \n",
       "5   530.410               1  \n",
       "6  1256.083               1  \n",
       "7   280.694               1  \n",
       "8   136.855               1  \n",
       "9   318.302               1  "
      ]
     },
     "execution_count": 3,
     "metadata": {},
     "output_type": "execute_result"
    }
   ],
   "source": [
    "#load data and \n",
    "df = pd.read_csv('dataR2.csv')\n",
    "df.head(10)"
   ]
  },
  {
   "cell_type": "code",
   "execution_count": 4,
   "metadata": {},
   "outputs": [
    {
     "data": {
      "text/html": [
       "<div>\n",
       "<style scoped>\n",
       "    .dataframe tbody tr th:only-of-type {\n",
       "        vertical-align: middle;\n",
       "    }\n",
       "\n",
       "    .dataframe tbody tr th {\n",
       "        vertical-align: top;\n",
       "    }\n",
       "\n",
       "    .dataframe thead th {\n",
       "        text-align: right;\n",
       "    }\n",
       "</style>\n",
       "<table border=\"1\" class=\"dataframe\">\n",
       "  <thead>\n",
       "    <tr style=\"text-align: right;\">\n",
       "      <th></th>\n",
       "      <th>Age</th>\n",
       "      <th>BMI</th>\n",
       "      <th>Glucose</th>\n",
       "      <th>Insulin</th>\n",
       "      <th>HOMA</th>\n",
       "      <th>Leptin</th>\n",
       "      <th>Adiponectin</th>\n",
       "      <th>Resistin</th>\n",
       "      <th>MCP.1</th>\n",
       "      <th>Classification</th>\n",
       "    </tr>\n",
       "  </thead>\n",
       "  <tbody>\n",
       "    <tr>\n",
       "      <th>count</th>\n",
       "      <td>116.000000</td>\n",
       "      <td>116.000000</td>\n",
       "      <td>116.000000</td>\n",
       "      <td>116.000000</td>\n",
       "      <td>116.000000</td>\n",
       "      <td>116.000000</td>\n",
       "      <td>116.000000</td>\n",
       "      <td>116.000000</td>\n",
       "      <td>116.000000</td>\n",
       "      <td>116.000000</td>\n",
       "    </tr>\n",
       "    <tr>\n",
       "      <th>mean</th>\n",
       "      <td>57.301724</td>\n",
       "      <td>27.582111</td>\n",
       "      <td>97.793103</td>\n",
       "      <td>10.012086</td>\n",
       "      <td>2.694988</td>\n",
       "      <td>26.615080</td>\n",
       "      <td>10.180874</td>\n",
       "      <td>14.725966</td>\n",
       "      <td>534.647000</td>\n",
       "      <td>1.551724</td>\n",
       "    </tr>\n",
       "    <tr>\n",
       "      <th>std</th>\n",
       "      <td>16.112766</td>\n",
       "      <td>5.020136</td>\n",
       "      <td>22.525162</td>\n",
       "      <td>10.067768</td>\n",
       "      <td>3.642043</td>\n",
       "      <td>19.183294</td>\n",
       "      <td>6.843341</td>\n",
       "      <td>12.390646</td>\n",
       "      <td>345.912663</td>\n",
       "      <td>0.499475</td>\n",
       "    </tr>\n",
       "    <tr>\n",
       "      <th>min</th>\n",
       "      <td>24.000000</td>\n",
       "      <td>18.370000</td>\n",
       "      <td>60.000000</td>\n",
       "      <td>2.432000</td>\n",
       "      <td>0.467409</td>\n",
       "      <td>4.311000</td>\n",
       "      <td>1.656020</td>\n",
       "      <td>3.210000</td>\n",
       "      <td>45.843000</td>\n",
       "      <td>1.000000</td>\n",
       "    </tr>\n",
       "    <tr>\n",
       "      <th>25%</th>\n",
       "      <td>45.000000</td>\n",
       "      <td>22.973205</td>\n",
       "      <td>85.750000</td>\n",
       "      <td>4.359250</td>\n",
       "      <td>0.917966</td>\n",
       "      <td>12.313675</td>\n",
       "      <td>5.474282</td>\n",
       "      <td>6.881763</td>\n",
       "      <td>269.978250</td>\n",
       "      <td>1.000000</td>\n",
       "    </tr>\n",
       "    <tr>\n",
       "      <th>50%</th>\n",
       "      <td>56.000000</td>\n",
       "      <td>27.662416</td>\n",
       "      <td>92.000000</td>\n",
       "      <td>5.924500</td>\n",
       "      <td>1.380939</td>\n",
       "      <td>20.271000</td>\n",
       "      <td>8.352692</td>\n",
       "      <td>10.827740</td>\n",
       "      <td>471.322500</td>\n",
       "      <td>2.000000</td>\n",
       "    </tr>\n",
       "    <tr>\n",
       "      <th>75%</th>\n",
       "      <td>71.000000</td>\n",
       "      <td>31.241442</td>\n",
       "      <td>102.000000</td>\n",
       "      <td>11.189250</td>\n",
       "      <td>2.857787</td>\n",
       "      <td>37.378300</td>\n",
       "      <td>11.815970</td>\n",
       "      <td>17.755207</td>\n",
       "      <td>700.085000</td>\n",
       "      <td>2.000000</td>\n",
       "    </tr>\n",
       "    <tr>\n",
       "      <th>max</th>\n",
       "      <td>89.000000</td>\n",
       "      <td>38.578759</td>\n",
       "      <td>201.000000</td>\n",
       "      <td>58.460000</td>\n",
       "      <td>25.050342</td>\n",
       "      <td>90.280000</td>\n",
       "      <td>38.040000</td>\n",
       "      <td>82.100000</td>\n",
       "      <td>1698.440000</td>\n",
       "      <td>2.000000</td>\n",
       "    </tr>\n",
       "  </tbody>\n",
       "</table>\n",
       "</div>"
      ],
      "text/plain": [
       "              Age         BMI     Glucose     Insulin        HOMA      Leptin  \\\n",
       "count  116.000000  116.000000  116.000000  116.000000  116.000000  116.000000   \n",
       "mean    57.301724   27.582111   97.793103   10.012086    2.694988   26.615080   \n",
       "std     16.112766    5.020136   22.525162   10.067768    3.642043   19.183294   \n",
       "min     24.000000   18.370000   60.000000    2.432000    0.467409    4.311000   \n",
       "25%     45.000000   22.973205   85.750000    4.359250    0.917966   12.313675   \n",
       "50%     56.000000   27.662416   92.000000    5.924500    1.380939   20.271000   \n",
       "75%     71.000000   31.241442  102.000000   11.189250    2.857787   37.378300   \n",
       "max     89.000000   38.578759  201.000000   58.460000   25.050342   90.280000   \n",
       "\n",
       "       Adiponectin    Resistin        MCP.1  Classification  \n",
       "count   116.000000  116.000000   116.000000      116.000000  \n",
       "mean     10.180874   14.725966   534.647000        1.551724  \n",
       "std       6.843341   12.390646   345.912663        0.499475  \n",
       "min       1.656020    3.210000    45.843000        1.000000  \n",
       "25%       5.474282    6.881763   269.978250        1.000000  \n",
       "50%       8.352692   10.827740   471.322500        2.000000  \n",
       "75%      11.815970   17.755207   700.085000        2.000000  \n",
       "max      38.040000   82.100000  1698.440000        2.000000  "
      ]
     },
     "execution_count": 4,
     "metadata": {},
     "output_type": "execute_result"
    }
   ],
   "source": [
    "df.describe()"
   ]
  },
  {
   "cell_type": "code",
   "execution_count": 116,
   "metadata": {},
   "outputs": [
    {
     "data": {
      "text/plain": [
       "Text(0, 0.5, 'Label')"
      ]
     },
     "execution_count": 116,
     "metadata": {},
     "output_type": "execute_result"
    },
    {
     "data": {
      "image/png": "[encoded data removed]",
      "text/plain": [
       "<Figure size 432x288 with 1 Axes>"
      ]
     },
     "metadata": {
      "needs_background": "light"
     },
     "output_type": "display_data"
    }
   ],
   "source": [
    "df['Classification'].value_counts().plot(kind='barh', fontsize='x-large').set_ylabel('Label', fontsize='x-large')"
   ]
  },
  {
   "cell_type": "markdown",
   "metadata": {},
   "source": [
    "## Train (80%) and test (20%) split"
   ]
  },
  {
   "cell_type": "code",
   "execution_count": 8,
   "metadata": {},
   "outputs": [],
   "source": [
    "#randomly split into train and evaluate sets\n",
    "#set random seed for results to be reproducible \n",
    "np.random.seed(88)\n",
    "mask = np.random.rand(len(df), 1) <= 0.8\n",
    "#df['split'] = np.random.randn(len(df), 1)\n",
    "x_train = df[mask]\n",
    "x_eval = df[~mask]\n",
    "#df['Classification'].unique(), covert 1,2 to 0,1\n",
    "y_train = x_train.pop('Classification') - 1\n",
    "y_eval = x_eval.pop('Classification') - 1"
   ]
  },
  {
   "cell_type": "markdown",
   "metadata": {},
   "source": [
    "## Preprocessing: build feature_columns and input functions for prediction model"
   ]
  },
  {
   "cell_type": "code",
   "execution_count": 9,
   "metadata": {},
   "outputs": [],
   "source": [
    "#processing for categorical and numerical columns\n",
    "#no categorical columns in this dataset\n",
    "# cat_columns = [] \n",
    "# def one_hot_cat_column(feature_name, vocab):\n",
    "#     return tf.feature_column.indicator_column(\n",
    "#         tf.feature_column.categorical_column_with_vocabulary_list(feature_name, vocab))\n",
    "cat_colums =[]\n",
    "numer_columns = ['Age', 'BMI', 'Glucose', 'Insulin', 'HOMA', 'Leptin', 'Adiponectin', 'Resistin', 'MCP.1']\n",
    "feature_columns = []\n",
    "\n",
    "# for feature_name in cat_columns:\n",
    "#     vocabulary = x_train[feature_name].unique()\n",
    "#     feature_columns.append(one_hot_cat_column(feature_name, vocabulary))\n",
    "for feature_name in cat_colums:\n",
    "    vocabulary = x_train[feature_name].unique()\n",
    "    feature_columns.append(tf.feature_column.categorical_column_with_vocabulary_list(feature_name, vocabulary))\n",
    "\n",
    "for feature_name in numer_columns:\n",
    "    feature_columns.append(tf.feature_column.numeric_column(feature_name, dtype=tf.float32))"
   ]
  },
  {
   "cell_type": "code",
   "execution_count": 10,
   "metadata": {},
   "outputs": [],
   "source": [
    "#make input function\n",
    "n_examples = len(y_train)\n",
    "\n",
    "def make_input_fn(X, y, n_epochs=None, shuffle=True):\n",
    "    def input_fn():\n",
    "        dataset = tf.data.Dataset.from_tensor_slices((dict(X), y))\n",
    "        if shuffle:\n",
    "            dataset = dataset.shuffle(n_examples)\n",
    "        \n",
    "        dataset = dataset.repeat(n_epochs)\n",
    "        \n",
    "        dataset = dataset.batch(n_examples)\n",
    "        return dataset\n",
    "    return input_fn"
   ]
  },
  {
   "cell_type": "code",
   "execution_count": 41,
   "metadata": {},
   "outputs": [],
   "source": [
    "train_input_fn = make_input_fn(x_train, y_train)\n",
    "eval_input_fn = make_input_fn(x_eval, y_eval, shuffle=False, n_epochs=1)"
   ]
  },
  {
   "cell_type": "code",
   "execution_count": 39,
   "metadata": {
    "scrolled": true
   },
   "outputs": [
    {
     "name": "stdout",
     "output_type": "stream",
     "text": [
      "Feature keys: ['Age', 'BMI', 'Glucose', 'Insulin', 'HOMA', 'Leptin', 'Adiponectin', 'Resistin', 'MCP.1']\n",
      "\n",
      "A batch of class: [ 92  85 152  83 118 102 103  83  87 103 112  89  92 134 101  90  84 139\n",
      "  92  96  95 114  90 104  92 138  97  88 103 116  77  94 105  98  92  79\n",
      "  99  91  92  76  60 196  90  85  70  93  88 108  83 106  93  94  97  98\n",
      "  77  98  86 201  92 101 199 102  74  94 101  85  87  95  90 101  89  92\n",
      " 134  82  78 102  70 128  93  75  84  97 103  83  86  92 119  82  97 131\n",
      "  84]\n",
      "\n",
      "A batch of Labels: [0 0 1 0 0 1 1 1 0 1 1 1 1 1 0 0 0 1 1 0 1 1 1 1 1 1 0 1 1 1 0 1 1 1 1 0 1\n",
      " 0 1 0 0 1 1 0 0 0 1 1 0 0 1 0 1 1 0 1 1 1 0 1 1 0 1 0 0 1 0 0 0 0 0 0 1 0\n",
      " 1 1 1 1 1 0 0 1 0 0 0 1 1 0 1 1 0]\n"
     ]
    }
   ],
   "source": [
    "ds = make_input_fn(x_train, y_train)()\n",
    "for feature_batch, label_batch in ds.take(1):\n",
    "    print('Feature keys:', list(feature_batch.keys()))\n",
    "    print()\n",
    "    print('A batch of class:', feature_batch['Glucose'].numpy())\n",
    "    print()\n",
    "    print('A batch of Labels:', label_batch.numpy())\n",
    "#evaluate age column values\n",
    "#age_column = feature_columns[0]\n",
    "#tf.keras.layers.DenseFeatures(age_column)(feature_batch).numpy()"
   ]
  },
  {
   "cell_type": "markdown",
   "metadata": {},
   "source": [
    "## Results for Logistic, 0.6 predication accuracy was obtained."
   ]
  },
  {
   "cell_type": "code",
   "execution_count": 112,
   "metadata": {},
   "outputs": [
    {
     "name": "stdout",
     "output_type": "stream",
     "text": [
      "Logistic regression:\n",
      "\n",
      "accuracy                  0.600000\n",
      "accuracy_baseline         0.520000\n",
      "auc                       0.682692\n",
      "auc_precision_recall      0.697509\n",
      "average_loss              2.031751\n",
      "label/mean                0.520000\n",
      "loss                      2.031751\n",
      "precision                 0.571429\n",
      "prediction/mean           0.832425\n",
      "recall                    0.923077\n",
      "global_step             200.000000\n",
      "dtype: float64\n"
     ]
    }
   ],
   "source": [
    "#logistic regression\n",
    "linear_est = tf.estimator.LinearClassifier(feature_columns)\n",
    "linear_est.train(train_input_fn, max_steps=200)\n",
    "#eval of logistic regression\n",
    "result = linear_est.evaluate(eval_input_fn)\n",
    "clear_output()\n",
    "print('Logistic regression:')\n",
    "print()\n",
    "print(pd.Series(result))\n"
   ]
  },
  {
   "cell_type": "markdown",
   "metadata": {},
   "source": [
    "## Results for Boosted Tree, 0.8 predication accuracy was obtained."
   ]
  },
  {
   "cell_type": "code",
   "execution_count": 111,
   "metadata": {
    "scrolled": true
   },
   "outputs": [
    {
     "name": "stdout",
     "output_type": "stream",
     "text": [
      "Boosted tree:\n",
      "\n",
      "accuracy                  0.800000\n",
      "accuracy_baseline         0.520000\n",
      "auc                       0.807692\n",
      "auc_precision_recall      0.863028\n",
      "average_loss              0.541260\n",
      "label/mean                0.520000\n",
      "loss                      0.541260\n",
      "precision                 0.833333\n",
      "prediction/mean           0.499871\n",
      "recall                    0.769231\n",
      "global_step             200.000000\n",
      "dtype: float64\n"
     ]
    }
   ],
   "source": [
    "#boosted tree\n",
    "\n",
    "params = {\n",
    "  'n_trees': 100,\n",
    "  'max_depth': 3,\n",
    "  'n_batches_per_layer': 1,\n",
    "  # You must enable center_bias = True to get DFCs. This will force the model to \n",
    "  # make an initial prediction before using any features (e.g. use the mean of \n",
    "  # the training labels for regression or log odds for classification when\n",
    "  # using cross entropy loss).\n",
    "  'center_bias': True,\n",
    "  'learning_rate': 0.01,\n",
    "}\n",
    "bt_est = tf.estimator.BoostedTreesClassifier(feature_columns, **params)\n",
    "# Train model.\n",
    "bt_est.train(train_input_fn, max_steps=200)\n",
    "# Evaluation.\n",
    "bt_result = bt_est.evaluate(eval_input_fn)\n",
    "\n",
    "clear_output()\n",
    "print('Boosted tree:')\n",
    "print()\n",
    "print(pd.Series(bt_result))\n",
    "# print('Logistic regression: {}'.format(result))\n",
    "# print('Boosted tree: {}'.format(bt_result))"
   ]
  },
  {
   "cell_type": "markdown",
   "metadata": {},
   "source": [
    "## ROC curve for comparison of prediction models: Boosted Tree is better than Logistic."
   ]
  },
  {
   "cell_type": "code",
   "execution_count": 107,
   "metadata": {},
   "outputs": [
    {
     "data": {
      "text/plain": [
       "<matplotlib.legend.Legend at 0x142c637f0>"
      ]
     },
     "execution_count": 107,
     "metadata": {},
     "output_type": "execute_result"
    },
    {
     "data": {
      "image/png": "[encoded data removed]",
      "text/plain": [
       "<Figure size 576x504 with 1 Axes>"
      ]
     },
     "metadata": {
      "needs_background": "light"
     },
     "output_type": "display_data"
    }
   ],
   "source": [
    "#ROC curve for both models\n",
    "\n",
    "pred_dicts = list(linear_est.predict(eval_input_fn))\n",
    "probs = pd.Series([pred['probabilities'][1] for pred in pred_dicts])\n",
    "\n",
    "pred_dicts_bt = list(bt_est.predict(eval_input_fn))\n",
    "probs_bt = pd.Series([pred['probabilities'][1] for pred in pred_dicts_bt])\n",
    "clear_output()\n",
    "fpr, tpr, _ = roc_curve(y_eval, probs)\n",
    "fig, ax = plt.subplots(figsize=(8,7))\n",
    "plt.plot(fpr, tpr, linewidth=3)\n",
    "plt.title('ROC curve', fontsize='x-large')\n",
    "plt.xlabel('False positive rate', fontsize='x-large')\n",
    "plt.ylabel('True positive rate', fontsize='x-large')\n",
    "plt.xlim(0,)\n",
    "plt.ylim(0,)\n",
    "plt.xticks(fontsize='x-large')\n",
    "plt.yticks(fontsize='x-large')\n",
    "\n",
    "fpr, tpr, _ = roc_curve(y_eval, probs_bt)\n",
    "plt.plot(fpr, tpr, color='#d62728', linewidth=3)\n",
    "plt.legend(['Logistic (AUC = {0:0.2f})'''.format(result['auc']), \n",
    "            'Broosted Tree (AUC = {0:0.2f})'''.format(bt_result['auc'])],\n",
    "          fontsize='x-large')"
   ]
  },
  {
   "cell_type": "markdown",
   "metadata": {},
   "source": [
    "## Feature importance visualization: Directional feature contributions plot and Gain based feature importance "
   ]
  },
  {
   "cell_type": "code",
   "execution_count": 108,
   "metadata": {},
   "outputs": [
    {
     "data": {
      "image/png": "[encoded data removed]",
      "text/plain": [
       "<Figure size 432x288 with 1 Axes>"
      ]
     },
     "metadata": {
      "needs_background": "light"
     },
     "output_type": "display_data"
    },
    {
     "data": {
      "image/png": "[encoded data removed]",
      "text/plain": [
       "<Figure size 432x288 with 1 Axes>"
      ]
     },
     "metadata": {
      "needs_background": "light"
     },
     "output_type": "display_data"
    }
   ],
   "source": [
    "#make directional feature contributions plot\n",
    "\n",
    "pred_dicts = list(bt_est.experimental_predict_with_explanations(eval_input_fn))\n",
    "df_dfc = pd.DataFrame([pred['dfc'] for pred in pred_dicts])\n",
    "clear_output()\n",
    "#plt.figure(1)\n",
    "ID = 5\n",
    "example = df_dfc.iloc[ID] #choose ith example from eval set\n",
    "TOP_N = 8 # top 8 features\n",
    "sorted_ix = example.abs().sort_values()[-TOP_N: ].index\n",
    "ax = example[sorted_ix].plot(kind='barh')\n",
    "plt.title('Feature contributions for eval data 5', fontsize='x-large')\n",
    "plt.xticks(fontsize='x-large')\n",
    "plt.yticks(fontsize='x-large')\n",
    "plt.show()\n",
    "\n",
    "#gain_based feature importance\n",
    "importance = bt_est.experimental_feature_importances(normalize=True)\n",
    "df_imp = pd.Series(importance)\n",
    "#visualize importance\n",
    "plt.figure(2)\n",
    "N = 8\n",
    "ax = (df_imp.iloc[0:N][::-1].plot(kind='barh'))\n",
    "\n",
    "plt.title('Gain based feature importance', fontsize='x-large')\n",
    "plt.xticks(fontsize='x-large')\n",
    "plt.yticks(fontsize='x-large')\n",
    "plt.show()\n"
   ]
  },
  {
   "cell_type": "code",
   "execution_count": null,
   "metadata": {},
   "outputs": [],
   "source": []
  }
 ],
 "metadata": {
  "kernelspec": {
   "display_name": "Python 3",
   "language": "python",
   "name": "python3"
  },
  "language_info": {
   "codemirror_mode": {
    "name": "ipython",
    "version": 3
   },
   "file_extension": ".py",
   "mimetype": "text/x-python",
   "name": "python",
   "nbconvert_exporter": "python",
   "pygments_lexer": "ipython3",
   "version": "3.7.0"
  }
 },
 "nbformat": 4,
 "nbformat_minor": 2
}
